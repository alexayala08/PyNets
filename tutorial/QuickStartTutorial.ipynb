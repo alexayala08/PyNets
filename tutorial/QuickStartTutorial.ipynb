version https://git-lfs.github.com/spec/v1
oid sha256:f52b2d17305d2cd15fec08be5580a474acc0621cb74ddae348cb56808513b1a7
size 6726959
