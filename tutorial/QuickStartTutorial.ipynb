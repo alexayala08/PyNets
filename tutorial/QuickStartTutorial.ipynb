version https://git-lfs.github.com/spec/v1
oid sha256:7dd3318ddd409e4f04759c5f9bcc2206c67e1f69518f46f57ce5d99fd89c247e
size 6649917
