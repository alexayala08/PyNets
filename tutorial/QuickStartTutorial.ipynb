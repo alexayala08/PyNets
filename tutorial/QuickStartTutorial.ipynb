{
 "cells": [
  {
   "cell_type": "markdown",
   "metadata": {},
   "source": [
    "# A PyNets Primer in Python and Bash\n",
    "\n",
    "Docker/Singularity containers are the preferable way to run PyNets because the compute environment will include all optional dependencies, fully unlocked plotting capabilities, and will perform predictably and with fully reproducible numerical precision. To keep things simple for this demonstration, however, let's begin by just installing PyNets in a virtual environment and then run the workflow manually on some example data. The scope of this tutorial will cover single-subject workflows. For more examples (i.e. including usage with docker/singularity), see: https://pynets.readthedocs.io/en/latest/usage.html\n",
    "\n",
    "Although we will explore the package interactively in the code that follows, bear in mind that PyNets is a *workflow*, not a library like its core dependencies (Dipy, Nilearn, Nipype, Networkx). Thus, demonstrating its usage is fundamentally a command-line endeavor, rather than a purely pythonic one to which you may be typically accustomed. \n",
    "\n",
    "PyNets was intentionally designed to scale with supercomputers, but also run using just a couple cores on your local laptop. Although this tutorial is designed to explore the latter use-case, ideally the user will also have (or acquire) **systems-level** thinking (an awareness of issues relevant to distributed/parallel computing) in order to make the most of what PyNets has to offer. Recall that the uniqueness of the PyNets workflow, unlike any other software for brain network modeling, is that it is intended to facilitate a more reproducible ensemble connectome learning which, to be performed efficiently, warrants the use of HPC or AWS cloud infrastructures. "
   ]
  },
  {
   "cell_type": "markdown",
   "metadata": {},
   "source": [
    "## Installation"
   ]
  },
  {
   "cell_type": "code",
   "execution_count": 1,
   "metadata": {
    "jupyter": {
     "outputs_hidden": true
    }
   },
   "outputs": [
    {
     "name": "stdout",
     "output_type": "stream",
     "text": [
      "Requirement already satisfied: virtualenv in /usr/local/anaconda3/lib/python3.7/site-packages (16.7.5)\n",
      "Using base prefix '/usr/local/anaconda3'\n",
      "New python executable in /Users/derekpisner/virtualenvironment/pynets/bin/python\n",
      "Installing setuptools, pip, wheel...\n",
      "done.\n",
      "Requirement already up-to-date: gdown in /Users/derekpisner/virtualenvironment/pynets/lib/python3.7/site-packages (3.11.1)\n",
      "Requirement already up-to-date: fury in /Users/derekpisner/virtualenvironment/pynets/lib/python3.7/site-packages (0.5.1)\n",
      "Requirement already satisfied, skipping upgrade: filelock in /Users/derekpisner/virtualenvironment/pynets/lib/python3.7/site-packages (from gdown) (3.0.12)\n",
      "Requirement already satisfied, skipping upgrade: tqdm in /Users/derekpisner/virtualenvironment/pynets/lib/python3.7/site-packages (from gdown) (4.47.0)\n",
      "Requirement already satisfied, skipping upgrade: six in /Users/derekpisner/virtualenvironment/pynets/lib/python3.7/site-packages (from gdown) (1.15.0)\n",
      "Requirement already satisfied, skipping upgrade: requests[socks] in /Users/derekpisner/virtualenvironment/pynets/lib/python3.7/site-packages (from gdown) (2.24.0)\n",
      "Requirement already satisfied, skipping upgrade: scipy>=0.9 in /Users/derekpisner/virtualenvironment/pynets/lib/python3.7/site-packages (from fury) (1.4.1)\n",
      "Requirement already satisfied, skipping upgrade: numpy>=1.7.1 in /Users/derekpisner/virtualenvironment/pynets/lib/python3.7/site-packages (from fury) (1.19.0)\n",
      "Requirement already satisfied, skipping upgrade: vtk>=8.1.0 in /Users/derekpisner/virtualenvironment/pynets/lib/python3.7/site-packages (from fury) (9.0.1)\n",
      "Requirement already satisfied, skipping upgrade: pillow>=5.4.1 in /Users/derekpisner/virtualenvironment/pynets/lib/python3.7/site-packages (from fury) (7.2.0)\n",
      "Requirement already satisfied, skipping upgrade: certifi>=2017.4.17 in /Users/derekpisner/virtualenvironment/pynets/lib/python3.7/site-packages (from requests[socks]->gdown) (2020.6.20)\n",
      "Requirement already satisfied, skipping upgrade: urllib3!=1.25.0,!=1.25.1,<1.26,>=1.21.1 in /Users/derekpisner/virtualenvironment/pynets/lib/python3.7/site-packages (from requests[socks]->gdown) (1.25.9)\n",
      "Requirement already satisfied, skipping upgrade: chardet<4,>=3.0.2 in /Users/derekpisner/virtualenvironment/pynets/lib/python3.7/site-packages (from requests[socks]->gdown) (3.0.4)\n",
      "Requirement already satisfied, skipping upgrade: idna<3,>=2.5 in /Users/derekpisner/virtualenvironment/pynets/lib/python3.7/site-packages (from requests[socks]->gdown) (2.10)\n",
      "Requirement already satisfied, skipping upgrade: PySocks!=1.5.7,>=1.5.6; extra == \"socks\" in /Users/derekpisner/virtualenvironment/pynets/lib/python3.7/site-packages (from requests[socks]->gdown) (1.7.1)\n"
     ]
    },
    {
     "name": "stderr",
     "output_type": "stream",
     "text": [
      "ERROR: Could not find a version that satisfies the requirement pynets==0.9.999b (from versions: 0.1.0, 0.2.0, 0.2.1, 0.2.2, 0.2.3, 0.2.4, 0.2.5, 0.2.6, 0.2.7, 0.2.8, 0.2.9, 0.3.0, 0.3.1, 0.3.2, 0.3.3, 0.3.5, 0.3.6, 0.3.7, 0.3.8, 0.3.9, 0.4.0, 0.4.1, 0.4.2, 0.4.3, 0.4.4, 0.4.5, 0.4.6, 0.4.7, 0.4.8, 0.4.9, 0.4.70, 0.4.71, 0.4.72, 0.4.73, 0.4.74, 0.4.75, 0.4.77, 0.4.78, 0.4.80, 0.4.81, 0.4.82, 0.4.83, 0.4.84, 0.4.85, 0.4.86, 0.4.87, 0.4.88, 0.5.0, 0.5.1, 0.5.2, 0.5.3, 0.5.4, 0.5.5, 0.5.6, 0.5.61, 0.5.62, 0.5.63, 0.5.64, 0.5.65, 0.5.66, 0.5.67, 0.5.68, 0.5.69, 0.5.70, 0.5.71, 0.5.72, 0.5.74, 0.5.75, 0.5.76, 0.5.77, 0.5.78, 0.5.79, 0.5.80, 0.5.81, 0.5.82, 0.5.83, 0.5.84, 0.5.85, 0.5.86, 0.5.88, 0.5.89, 0.5.90, 0.5.91, 0.5.92, 0.5.93, 0.5.94, 0.5.95, 0.5.96, 0.5.97, 0.5.98, 0.5.99, 0.6.1, 0.6.2, 0.6.3, 0.6.4, 0.6.5, 0.6.6, 0.6.10, 0.6.11, 0.6.12, 0.6.13, 0.6.14, 0.6.15, 0.6.17, 0.6.18, 0.6.19, 0.6.20, 0.6.21, 0.6.22, 0.6.23, 0.6.24, 0.6.25, 0.6.26, 0.6.27, 0.6.28, 0.6.29, 0.6.30, 0.6.31, 0.6.32, 0.6.33, 0.6.35, 0.6.36, 0.6.37, 0.6.39, 0.6.40, 0.6.41, 0.7.10, 0.7.11, 0.7.12, 0.7.13, 0.7.14, 0.7.15, 0.7.16, 0.7.17, 0.7.18, 0.7.19, 0.7.20, 0.7.21, 0.7.22, 0.7.23, 0.7.24, 0.7.25, 0.7.26, 0.7.27, 0.7.28, 0.7.29, 0.7.30, 0.7.31, 0.7.32, 0.7.33, 0.7.34, 0.7.35, 0.7.36, 0.7.39, 0.9.0, 0.9.1, 0.9.2, 0.9.3, 0.9.4, 0.9.5, 0.9.51, 0.9.52, 0.9.53, 0.9.54, 0.9.56, 0.9.58, 0.9.59, 0.9.60, 0.9.61, 0.9.62, 0.9.63, 0.9.64, 0.9.65, 0.9.66, 0.9.67, 0.9.69, 0.9.70, 0.9.71, 0.9.72, 0.9.73, 0.9.74, 0.9.75, 0.9.76, 0.9.77, 0.9.78, 0.9.79, 0.9.80, 0.9.81, 0.9.82, 0.9.84, 0.9.85, 0.9.86, 0.9.87, 0.9.88, 0.9.89, 0.9.90a0, 0.9.90b0, 0.9.90rc0, 0.9.91, 0.9.93, 0.9.94, 0.9.95, 0.9.96, 0.9.97, 0.9.98b0, 0.9.98, 0.9.99a0, 0.9.99b0, 0.9.99rc0, 0.9.99, 0.9.991, 0.9.992, 0.9.993, 0.9.994, 0.9.995, 0.9.996, 0.9.997a0, 0.9.997rc0, 0.9.997, 0.9.998a0, 0.9.998b0, 0.9.998rc0, 0.9.998, 0.9.999a0, 0.9.999)\n",
      "ERROR: No matching distribution found for pynets==0.9.999b\n"
     ]
    },
    {
     "ename": "CalledProcessError",
     "evalue": "Command 'b\"# Assuming that python3, pip, and FSL are already installed...\\n# Start a virtual environment and install some dependencies for our lesson.\\npip install virtualenv --user\\nmkdir ~/virtualenvironment 2>/dev/null\\nvirtualenv ~/virtualenvironment/pynets\\ncd ~/virtualenvironment/pynets/bin\\nsource activate\\n./pip3 install -U gdown fury # for downloading data, running pynets, and some 3d viz\\n./pip3 install pynets=='0.9.999b'\\n\"' returned non-zero exit status 1.",
     "output_type": "error",
     "traceback": [
      "\u001b[0;31m---------------------------------------------------------------------------\u001b[0m",
      "\u001b[0;31mCalledProcessError\u001b[0m                        Traceback (most recent call last)",
      "\u001b[0;32m<ipython-input-1-c14237626f11>\u001b[0m in \u001b[0;36m<module>\u001b[0;34m\u001b[0m\n\u001b[0;32m----> 1\u001b[0;31m \u001b[0mget_ipython\u001b[0m\u001b[0;34m(\u001b[0m\u001b[0;34m)\u001b[0m\u001b[0;34m.\u001b[0m\u001b[0mrun_cell_magic\u001b[0m\u001b[0;34m(\u001b[0m\u001b[0;34m'bash'\u001b[0m\u001b[0;34m,\u001b[0m \u001b[0;34m''\u001b[0m\u001b[0;34m,\u001b[0m \u001b[0;34m\"# Assuming that python3, pip, and FSL are already installed...\\n# Start a virtual environment and install some dependencies for our lesson.\\npip install virtualenv --user\\nmkdir ~/virtualenvironment 2>/dev/null\\nvirtualenv ~/virtualenvironment/pynets\\ncd ~/virtualenvironment/pynets/bin\\nsource activate\\n./pip3 install -U gdown fury # for downloading data, running pynets, and some 3d viz\\n./pip3 install pynets=='0.9.999b'\\n\"\u001b[0m\u001b[0;34m)\u001b[0m\u001b[0;34m\u001b[0m\u001b[0;34m\u001b[0m\u001b[0m\n\u001b[0m",
      "\u001b[0;32m/usr/local/anaconda3/lib/python3.7/site-packages/IPython/core/interactiveshell.py\u001b[0m in \u001b[0;36mrun_cell_magic\u001b[0;34m(self, magic_name, line, cell)\u001b[0m\n\u001b[1;32m   2350\u001b[0m             \u001b[0;32mwith\u001b[0m \u001b[0mself\u001b[0m\u001b[0;34m.\u001b[0m\u001b[0mbuiltin_trap\u001b[0m\u001b[0;34m:\u001b[0m\u001b[0;34m\u001b[0m\u001b[0;34m\u001b[0m\u001b[0m\n\u001b[1;32m   2351\u001b[0m                 \u001b[0margs\u001b[0m \u001b[0;34m=\u001b[0m \u001b[0;34m(\u001b[0m\u001b[0mmagic_arg_s\u001b[0m\u001b[0;34m,\u001b[0m \u001b[0mcell\u001b[0m\u001b[0;34m)\u001b[0m\u001b[0;34m\u001b[0m\u001b[0;34m\u001b[0m\u001b[0m\n\u001b[0;32m-> 2352\u001b[0;31m                 \u001b[0mresult\u001b[0m \u001b[0;34m=\u001b[0m \u001b[0mfn\u001b[0m\u001b[0;34m(\u001b[0m\u001b[0;34m*\u001b[0m\u001b[0margs\u001b[0m\u001b[0;34m,\u001b[0m \u001b[0;34m**\u001b[0m\u001b[0mkwargs\u001b[0m\u001b[0;34m)\u001b[0m\u001b[0;34m\u001b[0m\u001b[0;34m\u001b[0m\u001b[0m\n\u001b[0m\u001b[1;32m   2353\u001b[0m             \u001b[0;32mreturn\u001b[0m \u001b[0mresult\u001b[0m\u001b[0;34m\u001b[0m\u001b[0;34m\u001b[0m\u001b[0m\n\u001b[1;32m   2354\u001b[0m \u001b[0;34m\u001b[0m\u001b[0m\n",
      "\u001b[0;32m/usr/local/anaconda3/lib/python3.7/site-packages/IPython/core/magics/script.py\u001b[0m in \u001b[0;36mnamed_script_magic\u001b[0;34m(line, cell)\u001b[0m\n\u001b[1;32m    140\u001b[0m             \u001b[0;32melse\u001b[0m\u001b[0;34m:\u001b[0m\u001b[0;34m\u001b[0m\u001b[0;34m\u001b[0m\u001b[0m\n\u001b[1;32m    141\u001b[0m                 \u001b[0mline\u001b[0m \u001b[0;34m=\u001b[0m \u001b[0mscript\u001b[0m\u001b[0;34m\u001b[0m\u001b[0;34m\u001b[0m\u001b[0m\n\u001b[0;32m--> 142\u001b[0;31m             \u001b[0;32mreturn\u001b[0m \u001b[0mself\u001b[0m\u001b[0;34m.\u001b[0m\u001b[0mshebang\u001b[0m\u001b[0;34m(\u001b[0m\u001b[0mline\u001b[0m\u001b[0;34m,\u001b[0m \u001b[0mcell\u001b[0m\u001b[0;34m)\u001b[0m\u001b[0;34m\u001b[0m\u001b[0;34m\u001b[0m\u001b[0m\n\u001b[0m\u001b[1;32m    143\u001b[0m \u001b[0;34m\u001b[0m\u001b[0m\n\u001b[1;32m    144\u001b[0m         \u001b[0;31m# write a basic docstring:\u001b[0m\u001b[0;34m\u001b[0m\u001b[0;34m\u001b[0m\u001b[0;34m\u001b[0m\u001b[0m\n",
      "\u001b[0;32m</usr/local/anaconda3/lib/python3.7/site-packages/decorator.py:decorator-gen-110>\u001b[0m in \u001b[0;36mshebang\u001b[0;34m(self, line, cell)\u001b[0m\n",
      "\u001b[0;32m/usr/local/anaconda3/lib/python3.7/site-packages/IPython/core/magic.py\u001b[0m in \u001b[0;36m<lambda>\u001b[0;34m(f, *a, **k)\u001b[0m\n\u001b[1;32m    185\u001b[0m     \u001b[0;31m# but it's overkill for just that one bit of state.\u001b[0m\u001b[0;34m\u001b[0m\u001b[0;34m\u001b[0m\u001b[0;34m\u001b[0m\u001b[0m\n\u001b[1;32m    186\u001b[0m     \u001b[0;32mdef\u001b[0m \u001b[0mmagic_deco\u001b[0m\u001b[0;34m(\u001b[0m\u001b[0marg\u001b[0m\u001b[0;34m)\u001b[0m\u001b[0;34m:\u001b[0m\u001b[0;34m\u001b[0m\u001b[0;34m\u001b[0m\u001b[0m\n\u001b[0;32m--> 187\u001b[0;31m         \u001b[0mcall\u001b[0m \u001b[0;34m=\u001b[0m \u001b[0;32mlambda\u001b[0m \u001b[0mf\u001b[0m\u001b[0;34m,\u001b[0m \u001b[0;34m*\u001b[0m\u001b[0ma\u001b[0m\u001b[0;34m,\u001b[0m \u001b[0;34m**\u001b[0m\u001b[0mk\u001b[0m\u001b[0;34m:\u001b[0m \u001b[0mf\u001b[0m\u001b[0;34m(\u001b[0m\u001b[0;34m*\u001b[0m\u001b[0ma\u001b[0m\u001b[0;34m,\u001b[0m \u001b[0;34m**\u001b[0m\u001b[0mk\u001b[0m\u001b[0;34m)\u001b[0m\u001b[0;34m\u001b[0m\u001b[0;34m\u001b[0m\u001b[0m\n\u001b[0m\u001b[1;32m    188\u001b[0m \u001b[0;34m\u001b[0m\u001b[0m\n\u001b[1;32m    189\u001b[0m         \u001b[0;32mif\u001b[0m \u001b[0mcallable\u001b[0m\u001b[0;34m(\u001b[0m\u001b[0marg\u001b[0m\u001b[0;34m)\u001b[0m\u001b[0;34m:\u001b[0m\u001b[0;34m\u001b[0m\u001b[0;34m\u001b[0m\u001b[0m\n",
      "\u001b[0;32m/usr/local/anaconda3/lib/python3.7/site-packages/IPython/core/magics/script.py\u001b[0m in \u001b[0;36mshebang\u001b[0;34m(self, line, cell)\u001b[0m\n\u001b[1;32m    243\u001b[0m             \u001b[0msys\u001b[0m\u001b[0;34m.\u001b[0m\u001b[0mstderr\u001b[0m\u001b[0;34m.\u001b[0m\u001b[0mflush\u001b[0m\u001b[0;34m(\u001b[0m\u001b[0;34m)\u001b[0m\u001b[0;34m\u001b[0m\u001b[0;34m\u001b[0m\u001b[0m\n\u001b[1;32m    244\u001b[0m         \u001b[0;32mif\u001b[0m \u001b[0margs\u001b[0m\u001b[0;34m.\u001b[0m\u001b[0mraise_error\u001b[0m \u001b[0;32mand\u001b[0m \u001b[0mp\u001b[0m\u001b[0;34m.\u001b[0m\u001b[0mreturncode\u001b[0m\u001b[0;34m!=\u001b[0m\u001b[0;36m0\u001b[0m\u001b[0;34m:\u001b[0m\u001b[0;34m\u001b[0m\u001b[0;34m\u001b[0m\u001b[0m\n\u001b[0;32m--> 245\u001b[0;31m             \u001b[0;32mraise\u001b[0m \u001b[0mCalledProcessError\u001b[0m\u001b[0;34m(\u001b[0m\u001b[0mp\u001b[0m\u001b[0;34m.\u001b[0m\u001b[0mreturncode\u001b[0m\u001b[0;34m,\u001b[0m \u001b[0mcell\u001b[0m\u001b[0;34m,\u001b[0m \u001b[0moutput\u001b[0m\u001b[0;34m=\u001b[0m\u001b[0mout\u001b[0m\u001b[0;34m,\u001b[0m \u001b[0mstderr\u001b[0m\u001b[0;34m=\u001b[0m\u001b[0merr\u001b[0m\u001b[0;34m)\u001b[0m\u001b[0;34m\u001b[0m\u001b[0;34m\u001b[0m\u001b[0m\n\u001b[0m\u001b[1;32m    246\u001b[0m \u001b[0;34m\u001b[0m\u001b[0m\n\u001b[1;32m    247\u001b[0m     \u001b[0;32mdef\u001b[0m \u001b[0m_run_script\u001b[0m\u001b[0;34m(\u001b[0m\u001b[0mself\u001b[0m\u001b[0;34m,\u001b[0m \u001b[0mp\u001b[0m\u001b[0;34m,\u001b[0m \u001b[0mcell\u001b[0m\u001b[0;34m,\u001b[0m \u001b[0mto_close\u001b[0m\u001b[0;34m)\u001b[0m\u001b[0;34m:\u001b[0m\u001b[0;34m\u001b[0m\u001b[0;34m\u001b[0m\u001b[0m\n",
      "\u001b[0;31mCalledProcessError\u001b[0m: Command 'b\"# Assuming that python3, pip, and FSL are already installed...\\n# Start a virtual environment and install some dependencies for our lesson.\\npip install virtualenv --user\\nmkdir ~/virtualenvironment 2>/dev/null\\nvirtualenv ~/virtualenvironment/pynets\\ncd ~/virtualenvironment/pynets/bin\\nsource activate\\n./pip3 install -U gdown fury # for downloading data, running pynets, and some 3d viz\\n./pip3 install pynets=='0.9.999b'\\n\"' returned non-zero exit status 1."
     ]
    }
   ],
   "source": [
    "%%bash\n",
    "# Assuming that python3, pip, and FSL are already installed...\n",
    "# Start a virtual environment and install some dependencies for our lesson.\n",
    "pip install virtualenv --user\n",
    "mkdir ~/virtualenvironment 2>/dev/null\n",
    "virtualenv ~/virtualenvironment/pynets\n",
    "cd ~/virtualenvironment/pynets/bin\n",
    "source activate\n",
    "./pip3 install -U gdown fury # for downloading data, running pynets, and some 3d viz\n",
    "./pip3 install pynets=='0.9.999b'"
   ]
  },
  {
   "cell_type": "code",
   "execution_count": null,
   "metadata": {},
   "outputs": [],
   "source": [
    "%%bash\n",
    "# The only GUI-based visualizer that I continue to use (personally) is fsleyes,\n",
    "# which I find to be immensely intuitive, especially for fine-grained QC of overlays.\n",
    "# But feel free to use an image viewer of your choice. Future PyNets versions will likely \n",
    "# include html-style reports.\n",
    "# For macs, download this link for fsleyes:\n",
    "wget https://fsl.fmrib.ox.ac.uk/fsldownloads/fsleyes/FSLeyes-latest-macos.tar.gz #for 2d viz\n",
    "#rm -rf ~/virtualenvironment/FSLeyes.app\n",
    "tar -xzvf FSLeyes-latest-macos.tar.gz -C ~/virtualenvironment\n",
    "# For Linux, downnload the appropriate precompiled build from https://fsl.fmrib.ox.ac.uk/fsl/fslwiki/FSLeyes"
   ]
  },
  {
   "cell_type": "markdown",
   "metadata": {},
   "source": [
    "# Fetch sample preprocessed data"
   ]
  },
  {
   "cell_type": "markdown",
   "metadata": {},
   "source": [
    "Now we can download a minimal dataset from OASIS that includes preprocessed, multimodal fMRI and dMRI data.\n",
    "\n",
    "*Note*: Normally, we could just use a dataset from datalad or from s3 (which will download automatically using an s3:// file path prefix if your AWS credentials are properly configured!). See `pynets_cloud` CLI , with examples here: https://pynets.readthedocs.io/en/latest/usage.html#quickstart "
   ]
  },
  {
   "cell_type": "code",
   "execution_count": null,
   "metadata": {
    "jupyter": {
     "outputs_hidden": true
    }
   },
   "outputs": [],
   "source": [
    "%%bash\n",
    "# Now we create an output directory for the derivatives of the pipeline (if one doesn't exist already).\n",
    "if  [ -d ~/Downloads/.pynets ]; then\n",
    "    rm -rf ~/Downloads/.pynets/test_oasis*\n",
    "else\n",
    "    mkdir ~/Downloads/.pynets\n",
    "fi\n",
    "\n",
    "# And download the data to a generic \"derivatives\" directory.\n",
    "if  [ ! -f ~/Downloads/.pynets/test_oasis.tar.gz ]; then\n",
    "    cd ~/Downloads/.pynets\n",
    "    gdown https://drive.google.com/uc?id=1beEoc_Pdk6OBDYc80mBDTvUhcUny9Gu3 -O ~/Downloads/.pynets/test_oasis.tar.gz\n",
    "else\n",
    "    cd ~/Downloads/.pynets\n",
    "fi\n",
    "\n",
    "mkdir -p ~/Downloads/.pynets/derivatives/sub-OAS31172 2>/dev/null\n",
    "tar -xzvf test_oasis.tar.gz -C derivatives/sub-OAS31172"
   ]
  },
  {
   "cell_type": "raw",
   "metadata": {},
   "source": [
    "# Functional Connectometry\n",
    "\n",
    "*Note: Depending on the CPU/memory resources available to this jupyter notebook, and whether segmentation and registration data already exist from prior runs, the following commands may take anywhere between 5-240 minutes to run (it takes ~58 minutes on my laptop with 8 vCPUs and 16 GB RAM). This wide range of execution times stems from the fact that ensemble sampling in PyNets is 'embaressingly parallelizable' across estimations, with no ceiliing on scalability other than available compute resources. For the example below, for instance, if you had access to 68 vCPUs (as is found on TACC's Stampede2, for instance), with plenty of free RAM on a large-memory node, you could arrive at the 144 connectome samples in the time it takes to sample just one!"
   ]
  },
  {
   "cell_type": "markdown",
   "metadata": {},
   "source": [
    "Now we construct a command-line call for a single subject from the data we just downloaded. We can do this in two ways -- (1) using the `pynets_bids` API since our sample data is in BIDS format and can be queried using pybids; (2) with the `pynets` API for comparison.\n",
    "So, for run 1 of session d0407 from subject OAS31172, lets sample an ensemble of 144 functional connectome estimates (1 models x 6 thresholds x 2 smoothing values x 2 high-pass filter thresholds x 3 atlases x 2 time-series extraction methods)."
   ]
  },
  {
   "cell_type": "code",
   "execution_count": null,
   "metadata": {},
   "outputs": [],
   "source": [
    "%%bash\n",
    "dir=~/Downloads/.pynets\n",
    "abs_dir=`echo \"$(dirname $dir)\"`\n",
    "\n",
    "# BIDS way using a pre-configured .json file that specifies how we want the pipeline to run.\n",
    "# We can view this file to get an idea of what it contains:\n",
    "cat ~/virtualenvironment/pynets/lib/python3.7/site-packages/pynets/config/bids_config_bold.json\n",
    "\n",
    "# Next we initiate the `pynets_bids` CLI (note the inclusion of a run_label since the BOLD acquisitions for this dataset contain two runs):%%bash\n",
    "~/virtualenvironment/pynets/bin/pynets_bids \"$abs_dir\"/.pynets/derivatives \"$abs_dir\"/.pynets/outputs participant func --participant_label OAS31172 --session_label d0407 --run_label 1 -config ~/virtualenvironment/pynets/lib/python3.7/site-packages/pynets/config/bids_config_bold.json\n",
    "\n",
    "# *Note that the configuration in `bids_config_bold.json` is equivalent to running the following (non-BIDS) CLI call that does not require a config file:\n",
    "# ~/virtualenvironment/pynets/bin/pynets \"$abs_dir\"/.pynets/outputs -id OAS31172_d0407_1 -mod 'partcorr' -min_thr 0.20 -max_thr 0.80 -step_thr 0.10 -sm 0 4 -hp 0 0.028 -a 'BrainnetomeAtlasFan2016' 'atlas_harvard_oxford' 'destrieux2009_rois' -es 'mean' 'variance' -anat \"$abs_dir\"/.pynets/derivatives/sub-OAS31172/ses-d0407/anat/sub-OAS31172_ses-d0407_run-01_T1w.nii.gz -func \"$abs_dir\"/.pynets/derivatives/sub-OAS31172/ses-d0407/func/sub-OAS31172_ses-d0407_task-rest_run-01_bold.nii.gz -plug 'MultiProc' -work '/tmp/pynets_work' -mst -plt -embed"
   ]
  },
  {
   "cell_type": "markdown",
   "metadata": {},
   "source": [
    "# Viewing outputs"
   ]
  },
  {
   "cell_type": "code",
   "execution_count": null,
   "metadata": {},
   "outputs": [],
   "source": [
    "%%bash\n",
    "cd ~/Downloads/.pynets/outputs/sub-OAS31172/ses-d0407/func\n",
    "ls\n",
    "\n",
    "tree"
   ]
  },
  {
   "cell_type": "markdown",
   "metadata": {},
   "source": [
    "Lets do a bit of quality-control to ensure, for example, that the inverse warping of the destrieux2009_rois atlas from template-space to native T1w anatomical space is valid."
   ]
  },
  {
   "cell_type": "code",
   "execution_count": null,
   "metadata": {
    "jupyter": {
     "outputs_hidden": true
    }
   },
   "outputs": [],
   "source": [
    "%%bash\n",
    "t1w_image=`ls /tmp/pynets_work/*/*/meta_wf_*/fmri_connectometry*/register_node/reg/imgs/*t1w_brain.nii.gz | head -1`\n",
    "atlas_in_t1w_image=`ls /tmp/pynets_work/*_wf_single_subject_fmri*/wf_single_*/meta_wf_*/fmri_connectometry_*/_atlas_destrieux2009_rois/register_atlas_node/atlas_destrieux2009_rois/*_gm.nii.gz | head -1`\n",
    "\n",
    "~/virtualenvironment/FSLeyes.app/Contents/*/fsleyes \"$t1w_image\" \"$atlas_in_t1w_image\" -cm 'random' &\n"
   ]
  },
  {
   "cell_type": "code",
   "execution_count": null,
   "metadata": {},
   "outputs": [],
   "source": [
    "import glob\n",
    "from pathlib import Path\n",
    "from IPython.display import Image\n",
    "Image(filename=glob.glob(str(Path('~').expanduser()) + '/Downloads/.pynets/outputs/sub-OAS31172/ses-d0407/func/BrainnetomeAtlasFan2016/figures/*_glass_viz.png')[0])\n"
   ]
  },
  {
   "cell_type": "markdown",
   "metadata": {},
   "source": [
    "Above is a glass brain depiction of bilateral regions of the Brainnetome atlas (Fan et al., 2016) using a partial correlation estimator, 4 fwhm smoothing, 0.028Hz high-pass filter, based on variance of the node-extracted time-series, with 20% post-hoc thresholding using the Minimum-Spanning Tree (MST) method. The latter method serves as an anti-fragmentation device that ensures we can prevent isolated (i.e. disconnected) nodes that can violate certain graph theoretical assumptions.\n",
    "\n",
    "In the visualization, node size conveys the level of node importance (smaller is lower eigenvector centrality) and node color corresponds to hierarchical Louvain community affiliation (8 distinct communities found).\n",
    "\n",
    "The below adjacency matrix depicts a single connectome estimate, with community affiliation. "
   ]
  },
  {
   "cell_type": "code",
   "execution_count": null,
   "metadata": {},
   "outputs": [],
   "source": [
    "Image(filename=glob.glob(str(Path('~').expanduser()) + '/Downloads/.pynets/outputs/sub-OAS31172/ses-d0407/func/BrainnetomeAtlasFan2016/figures/*')[0])"
   ]
  },
  {
   "cell_type": "markdown",
   "metadata": {},
   "source": [
    "We could also look at the mean connectome (i.e. across all 144 estimates) -- what we might from here on out refer to as an **omnetome** as well:"
   ]
  },
  {
   "cell_type": "code",
   "execution_count": null,
   "metadata": {},
   "outputs": [],
   "source": [
    "%matplotlib inline\n",
    "import glob\n",
    "import numpy as np\n",
    "from matplotlib import pyplot as plt\n",
    "from nilearn.plotting import plot_matrix\n",
    "from pynets.core.thresholding import standardize\n",
    "\n",
    "mats = [np.load(i) for i in glob.glob('/Users/*/Downloads/.pynets/outputs/sub-OAS31172/ses-d0407/func/BrainnetomeAtlasFan2016/graphs/*.npy')]\n",
    "\n",
    "mean_mat = standardize(np.mean(mats, axis=0))\n",
    "\n",
    "plot_matrix(\n",
    "    mean_mat,\n",
    "    figure=(10, 10),\n",
    "    labels=[' ']*len(mean_mat),\n",
    "    vmax=np.percentile(mean_mat[mean_mat > 0], 90),\n",
    "    vmin=np.percentile(mean_mat[mean_mat > 0], 10),\n",
    "    reorder=\"average\",\n",
    "    auto_fit=True,\n",
    "    grid=False,\n",
    "    colorbar=True,\n",
    "    cmap='RdBu_r',\n",
    ")\n",
    "plt.show()"
   ]
  },
  {
   "cell_type": "markdown",
   "metadata": {},
   "source": [
    "As you can see, we get a much more information-rich graph. This graph, unlike the first, now represents a new *distribution* of connectomes, that, by virtue of its plurality of views, more exhaustively samples from the true *population* of networks in this individual that may exhibit connectivity, across the whole brain as a region of interest, at any point in time during the course of the 5-10 minute resting-state time-series."
   ]
  },
  {
   "cell_type": "markdown",
   "metadata": {},
   "source": [
    "# Collecting Outputs\n",
    "So, we explored the outputs of our connectome ensemble visually, but let's take a closer look at our omnetome's topology. To do this, we run another workflow using the `pynets_collect` CLI, which collects the various graph topological metrics extracted from each of the connectome point estimates in our ensemble."
   ]
  },
  {
   "cell_type": "code",
   "execution_count": null,
   "metadata": {},
   "outputs": [],
   "source": [
    "%%bash\n",
    "\n",
    "dir=~/Downloads/.pynets\n",
    "abs_dir=`echo \"$(dirname $dir)\"`\n",
    "~/virtualenvironment/pynets/bin/pynets_collect -basedir \"$abs_dir\"/.pynets/outputs -modality 'func'"
   ]
  },
  {
   "cell_type": "code",
   "execution_count": null,
   "metadata": {},
   "outputs": [],
   "source": [
    "import pathlib\n",
    "from pathlib import Path\n",
    "import pandas as pd\n",
    "\n",
    "# Now we can load a dataframe containing all the AUC topological graph metrics calculated for this particular subject's run:\n",
    "p = str(Path('~').expanduser()) + '/Downloads/.pynets/outputs/func_group_topology_auc/sub-OAS31172_ses-d0407_topology_auc_clean.csv'\n",
    "df_individual = pd.read_csv(p, index_col=False)\n",
    "df_individual\n",
    "\n",
    "# Note that if we were to sample connectomes from multiple subjects, the previous pynets_collect CLI would\n",
    "# simply append new rows to the summary `all_subs_neat_func.csv` dataframe.\n",
    "p = str(Path('~').expanduser()) + '/Downloads/.pynets/outputs/all_subs_neat_func.csv'\n",
    "df_group = pd.read_csv(p, index_col=False)\n",
    "df_group"
   ]
  },
  {
   "cell_type": "markdown",
   "metadata": {},
   "source": [
    "The below multiplot depicts distributions of average graph topological metrics, calculated using Area-Under-the-Curve (AUC) across our window of multiple thresholds, for the ensemble of 144 connectomes sampled. As you can visually discern, topology varies considerably across estimates."
   ]
  },
  {
   "cell_type": "code",
   "execution_count": null,
   "metadata": {},
   "outputs": [],
   "source": [
    "%matplotlib inline\n",
    "from pathlib import Path\n",
    "import warnings\n",
    "warnings.filterwarnings(\"ignore\")\n",
    "from pynets.plotting.plot_gen import plot_graph_measure_hists\n",
    "\n",
    "csv_all_metrics = str(Path('~').expanduser()) + '/Downloads/.pynets/outputs/func_group_topology_auc/sub-OAS31172_ses-d0407_topology_auc_clean.csv'\n",
    "\n",
    "out = plot_graph_measure_hists(csv_all_metrics)\n",
    "out"
   ]
  },
  {
   "cell_type": "markdown",
   "metadata": {},
   "source": [
    "We could also plot the omnetome embeddings to visualize lower-dimensional latent positions of the ensemble corresponding to each distinct graph resolution"
   ]
  },
  {
   "cell_type": "code",
   "execution_count": null,
   "metadata": {},
   "outputs": [],
   "source": [
    "%matplotlib inline\n",
    "from graspy.plot import pairplot\n",
    "import glob\n",
    "import os\n",
    "import numpy as np\n",
    "from matplotlib import pyplot as plt\n",
    "\n",
    "omnetomes = [[np.load(i), os.path.basename(i).split('.npy')[0]] for i in glob.glob('/Users/*/Downloads/.pynets/outputs/sub-OAS31172/ses-d0407/func/*/embeddings/*omnetome.npy')]\n",
    "\n",
    "for grad, title in omnetomes:\n",
    "    plot = pairplot(grad, title=title + '_Functional')"
   ]
  },
  {
   "cell_type": "markdown",
   "metadata": {},
   "source": [
    "# Structural Connectometry"
   ]
  },
  {
   "cell_type": "markdown",
   "metadata": {},
   "source": [
    "And now we construct a command-line call for the same subject, but using their dMRI data instead. This time, we should ideally use a higher voxel resolution (1mm) since we are working with microstructure data, but this would increase runtime by as much as 50%, which would be better saved for HPC environments. For demonstration purposes, we will therefore downsample our data slightly and work in 2mm voxel resolution.\n",
    "\n",
    "So, for run 1 of session d0407 from subject OAS31172, lets sample an ensemble of 72 structural connectome estimates (1 diffusion model type x 6 thresholds x 2 direction-getting methods x 2 minimum streamline length thresholds x 3 atlases."
   ]
  },
  {
   "cell_type": "code",
   "execution_count": null,
   "metadata": {},
   "outputs": [],
   "source": [
    "%%bash\n",
    "%%capture\n",
    "\n",
    "# Again, get the absolute paths to files and directories we will use.\n",
    "# The CLI's in PyNets do NOT accept relative paths.\n",
    "dir=~/Downloads/.pynets\n",
    "abs_dir=`echo \"$(dirname $dir)\"`\n",
    "\n",
    "# BIDS way using a pre-configured .json file that specifies how we want the pipeline to run.\n",
    "# We can view this file to get an idea of what it contains:\n",
    "cat ~/virtualenvironment/pynets/lib/python3.7/site-packages/pynets/config/bids_config_dwi.json\n",
    "\n",
    "# Next we initiate the `pynets_bids` CLI:\n",
    "~/virtualenvironment/pynets/bin/pynets_bids \"$abs_dir\"/.pynets/derivatives \"$abs_dir\"/.pynets/outputs participant dwi --participant_label OAS31172 --session_label d0407 -config ~/virtualenvironment/pynets/lib/python3.7/site-packages/pynets/config/bids_config_dwi.json\n",
    "\n",
    "# *Note that the configuration in `bids_config_dwi.json` is equivalent to running the following (non-BIDS) CLI call that does not require a config file:\n",
    "#~/virtualenvironment/pynets/bin/pynets \"$abs_dir\"/.pynets/outputs -mod 'csa' -min_thr 0.20 -max_thr 0.80 -step_thr 0.10 -dg 'det' 'prob' -ml 20 0 -a 'BrainnetomeAtlasFan2016' 'atlas_harvard_oxford' 'destrieux2009_rois' -anat \"\"$abs_dir\"/.pynets/derivatives/sub-OAS31172/ses-d0407/anat/sub-OAS31172_ses-d0407_run-01_T1w.nii.gz\" -dwi \"\"$abs_dir\"/.pynets/derivatives/sub-OAS31172/ses-d0407/dwi/sub-OAS31172_ses-d0407_dwi.nii.gz\" -bval \"\"$abs_dir\"/.pynets/derivatives/sub-OAS31172/ses-d0407/dwi/sub-OAS31172_ses-d0407_dwi.bval\" -bvec \"\"$abs_dir\"/.pynets/derivatives/sub-OAS31172/ses-d0407/dwi/sub-OAS31172_ses-d0407_dwi.bvec\" -id OAS31172_d0407_1 -plug 'MultiProc' -work '/tmp/pynets_work' -mst -plt -vox '2mm' -embed\n"
   ]
  },
  {
   "cell_type": "markdown",
   "metadata": {},
   "source": [
    "# Viewing outputs"
   ]
  },
  {
   "cell_type": "code",
   "execution_count": null,
   "metadata": {},
   "outputs": [],
   "source": [
    "%%bash\n",
    "cd ~/Downloads/.pynets/outputs/sub-OAS31172/ses-d0407/dwi\n",
    "ls .\n",
    "tree"
   ]
  },
  {
   "cell_type": "markdown",
   "metadata": {},
   "source": [
    "Lets do a bit of quality-control to ensure, for example, that the inverse warping of the harvard_oxford atlas from template-space to native DWI anatomical space is valid."
   ]
  },
  {
   "cell_type": "code",
   "execution_count": null,
   "metadata": {},
   "outputs": [],
   "source": [
    "%%bash\n",
    "t1w_dwi_image=`ls /tmp/pynets_work/*/*/meta_wf_*/dmri_connectometry*/register_node/dmri_reg/reg/imgs/t1w_in_dwi.nii.gz | head -1`\n",
    "atlas_in_t1w_dwi_image=`ls /tmp/pynets_work/*/*/meta_wf_*/dmri_connectometry*/*/register_atlas_node/*/*atlas_dwi_track.nii.gz | head -1`\n",
    "density_map=`ls ~/Downloads/.pynets/outputs/sub-OAS31172/ses-d0407/dwi/atlas_harvard_oxford/tractography/*.nii.gz | head -1`\n",
    "\n",
    "~/virtualenvironment/FSLeyes.app/Contents/*/fsleyes \"$t1w_dwi_image\" \"$atlas_in_t1w_dwi_image\" -cm 'random' \"$density_map\" &"
   ]
  },
  {
   "cell_type": "code",
   "execution_count": null,
   "metadata": {},
   "outputs": [],
   "source": [
    "import glob\n",
    "from IPython.display import Image\n",
    "Image(filename=glob.glob('/Users/*/Downloads/.pynets/outputs/sub-OAS31172/ses-d0407/dwi/atlas_harvard_oxford/figures/OAS31172_d0407_modality-dwi_est-csa_nodetype-parc_samples-50000streams_tt-local_dg-det_ml-20_thr-0.2_glass_viz.png')[0])"
   ]
  },
  {
   "cell_type": "markdown",
   "metadata": {},
   "source": [
    "Above is a glass brain depiction of regions of the Harvard-Oxford atlas using a tensor model estimator of diffusion, deterministic tractography, a minimum fiber length threshold of 20, with 80% post-hoc thresholding using the Minimum-Spanning Tree (MST) method.\n",
    "Again, un the visualization, node size conveys the level of node importance (smaller is lower eigenvector centrality) and node color corresponds to hierarchical Louvain community affiliation (only two distinct communities found). Unlike in the functional case, however, edges are here depicted with dotted white lines to differentiate them from functional edges, which carry a different meaning."
   ]
  },
  {
   "cell_type": "code",
   "execution_count": null,
   "metadata": {},
   "outputs": [],
   "source": [
    "Image(filename=glob.glob('/Users/*/Downloads/.pynets/outputs/sub-OAS31172/ses-d0407/dwi/atlas_harvard_oxford/figures/OAS31172_d0407_modality-dwi_est-csa_nodetype-parc_samples-50000streams_tt-local_dg-det_ml-0_thr-0.8_adj_mat.png')[0])\n"
   ]
  },
  {
   "cell_type": "markdown",
   "metadata": {},
   "source": [
    "The above adjacency matrix depicts a single connectome estimate, with community affiliation. But we could also look at a structural omnetome (i.e. based on FA-weighted fiber counts) across all 72 independent connectome estimations. Note that by default pynets only samples 10,000 streamlines whose endpoints intersect with at least two parcellation regions after all tissue/waymask/minimum-length filtering. This keeps runtimes down to <60 minutes for the complete structural connectometry pipeline. Bear in mind, however, that across our ensemble sample, we are **actually** sampling 20,000 x 72 = 1.4 million streamlines! And since we are further employing ensemble tractography, which samples across 5 step sizes (0.1, 0.2, 0.3, 0.4, 0.5) and 2 curvature thresholds (30, 40) by default, we are actually indirectly sampling across a much wider grid of parameters still.\n",
    "\n",
    "Whereas in the functional connectometry case, we examined the mean connectome across estimates, here we might choose to examine the max connectome specifically, since structural connectomes are inherently sparser."
   ]
  },
  {
   "cell_type": "code",
   "execution_count": null,
   "metadata": {},
   "outputs": [],
   "source": [
    "%matplotlib inline\n",
    "import pickle\n",
    "import glob\n",
    "import numpy as np\n",
    "from matplotlib import pyplot as plt\n",
    "from nilearn.plotting import plot_matrix\n",
    "from pynets.core.thresholding import standardize\n",
    "\n",
    "mats = [np.load(i) for i in glob.glob('/Users/*/Downloads/.pynets/outputs/sub-OAS31172/ses-d0407/dwi/BrainnetomeAtlasFan2016/graphs/*.npy')]\n",
    "\n",
    "max_mat = standardize(np.max(mats, axis=0))\n",
    "\n",
    "\n",
    "plot_matrix(\n",
    "    max_mat,\n",
    "    figure=(10, 10),\n",
    "    labels=[' ']*len(max_mat),\n",
    "    vmax=np.percentile(max_mat[max_mat > 0], 95),\n",
    "    vmin=np.percentile(max_mat[max_mat > 0], 10),\n",
    "    reorder=\"average\",\n",
    "    auto_fit=True,\n",
    "    grid=False,\n",
    "    colorbar=False,\n",
    "    cmap='RdBu_r',\n",
    ")\n",
    "plt.show()"
   ]
  },
  {
   "cell_type": "markdown",
   "metadata": {},
   "source": [
    "As you can see, we get a much more information-rich graph. This graph, unlike the first, now represents a new *distribution* of connectomes, that, by virtue of its plurality of views, more exhaustively samples from the true *population* of networks in this individual that may exhibit connectivity, across the whole brain as a region of interest.\n",
    "\n",
    "# Collecting Outputs\n",
    "Now, we explored the outputs of our connectome ensemble visually, but let's take a closer look at the actual topological data. To do this, we run another workflow using the `pynets_collect` CLI."
   ]
  },
  {
   "cell_type": "code",
   "execution_count": null,
   "metadata": {},
   "outputs": [],
   "source": [
    "%%bash\n",
    "\n",
    "dir=~/Downloads/.pynets\n",
    "abs_dir=`echo \"$(dirname $dir)\"`\n",
    "pynets_collect -basedir \"$abs_dir\"/.pynets/outputs -modality 'dwi'"
   ]
  },
  {
   "cell_type": "markdown",
   "metadata": {},
   "source": [
    "And as before we can view the output data and visualize resulting embeddings..."
   ]
  },
  {
   "cell_type": "code",
   "execution_count": null,
   "metadata": {},
   "outputs": [],
   "source": [
    "import pathlib\n",
    "from pathlib import Path\n",
    "import pandas as pd\n",
    "\n",
    "# Now we can load a dataframe containing all the AUC topological graph metrics calculated for this particular subject's run:\n",
    "p = str(Path('~').expanduser()) + '/Downloads/.pynets/outputs/dwi_group_topology_auc/sub-OAS31172_ses-d0407_topology_auc_clean.csv'\n",
    "df_individual = pd.read_csv(p, index_col=False)\n",
    "df_individual\n",
    "\n",
    "# Note that if we were to sample connectomes from multiple subjects, the previous pynets_collect CLI would\n",
    "# simply append new rows to the summary `all_subs_neat_func.csv` dataframe.\n",
    "p = str(Path('~').expanduser()) + '/Downloads/.pynets/outputs/all_subs_neat_dwi.csv'\n",
    "df_group = pd.read_csv(p, index_col=False)\n",
    "df_group"
   ]
  },
  {
   "cell_type": "code",
   "execution_count": null,
   "metadata": {},
   "outputs": [],
   "source": [
    "%matplotlib inline\n",
    "from pathlib import Path\n",
    "import warnings\n",
    "warnings.filterwarnings(\"ignore\")\n",
    "from pynets.plotting.plot_gen import plot_graph_measure_hists\n",
    "\n",
    "csv_all_metrics = str(Path('~').expanduser()) + '/Downloads/.pynets/outputs/dwi_group_topology_auc/sub-OAS31172_ses-d0407_topology_auc_clean.csv'\n",
    "\n",
    "out = plot_graph_measure_hists(csv_all_metrics)\n",
    "out.show()"
   ]
  },
  {
   "cell_type": "code",
   "execution_count": null,
   "metadata": {},
   "outputs": [],
   "source": [
    "%matplotlib inline\n",
    "from graspy.plot import pairplot\n",
    "import glob\n",
    "import os\n",
    "import numpy as np\n",
    "from matplotlib import pyplot as plt\n",
    "\n",
    "omnetomes = [[np.load(i), os.path.basename(i).split('.npy')[0]] for i in glob.glob('/Users/*/Downloads/.pynets/outputs/sub-OAS31172/ses-d0407/dwi/*/embeddings/*omnetome.npy')]\n",
    "\n",
    "for grad, title in omnetomes:\n",
    "    plot = pairplot(grad, title=title + '_Structural')"
   ]
  },
  {
   "cell_type": "markdown",
   "metadata": {},
   "source": [
    "Later tutorials will cover a variety of additional topics, including how you can deploy PyNets across entire BIDS datasets in a single command-line interface (CLI) call, benchmark and optimize connectome ensembles across diverse analytic scenarios with GridSearchCV integration, along with more advanced topics such as performing and visualizing multiplex graph analysis and embeddings of multimodal connectomes."
   ]
  }
 ],
 "metadata": {
  "kernelspec": {
   "display_name": "Python 3",
   "language": "python",
   "name": "python3"
  }
 },
 "nbformat": 4,
 "nbformat_minor": 2
}
