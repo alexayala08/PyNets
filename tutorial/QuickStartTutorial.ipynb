version https://git-lfs.github.com/spec/v1
oid sha256:00ea78d969fac0a2b0927b9b39f8750952b8eca2296db91b2eaf445b4260fdb9
size 6184313
