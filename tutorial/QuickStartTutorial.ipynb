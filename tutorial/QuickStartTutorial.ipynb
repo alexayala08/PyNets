version https://git-lfs.github.com/spec/v1
oid sha256:27e56339ff24d23fdaa1e765cc19f21f8f29f5d6604c4b0bda1c3ba1f8a3f78e
size 5215442
