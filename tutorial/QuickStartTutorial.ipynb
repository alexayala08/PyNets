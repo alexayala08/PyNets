version https://git-lfs.github.com/spec/v1
oid sha256:3996fd89ce840d43e2114e32f3d97c2f982124abe5adc9fe1b401458b387900f
size 4996183
